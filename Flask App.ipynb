{
 "cells": [
  {
   "cell_type": "code",
   "execution_count": 1,
   "metadata": {},
   "outputs": [
    {
     "name": "stderr",
     "output_type": "stream",
     "text": [
      "C:\\Users\\dlorenz\\AppData\\Local\\Continuum\\anaconda3\\lib\\site-packages\\h5py\\__init__.py:36: FutureWarning: Conversion of the second argument of issubdtype from `float` to `np.floating` is deprecated. In future, it will be treated as `np.float64 == np.dtype(float).type`.\n",
      "  from ._conv import register_converters as _register_converters\n",
      "Using TensorFlow backend.\n"
     ]
    }
   ],
   "source": [
    "#load os\n",
    "import os\n",
    "\n",
    "#load Flask \n",
    "#pip install flask==0.12.4\n",
    "import flask\n",
    "app = flask.Flask(__name__)\n",
    "#comment out line before production, only needed during testing:\n",
    "app.config['TESTING'] = True\n",
    "from flask import Flask, render_template,request\n",
    "\n",
    "#load model preprocessing\n",
    "import numpy as np\n",
    "import pandas as pd\n",
    "from keras.preprocessing.text import Tokenizer\n",
    "from keras.preprocessing.sequence import pad_sequences\n",
    "import keras.models\n",
    "from keras.models import model_from_json\n",
    "from keras.layers import Input"
   ]
  },
  {
   "cell_type": "markdown",
   "metadata": {},
   "source": [
    "watch: \n",
    "\n",
    "https://www.youtube.com/watch?v=MwZwr5Tvyxo \n",
    "\n",
    "https://www.youtube.com/watch?v=f6Bf3gl4hWY&t=1743s\n",
    "\n",
    "https://www.youtube.com/watch?v=IIi6e5oDZ68\n",
    "\n",
    "https://www.youtube.com/watch?v=RbejfDTHhhg\n",
    "\n",
    "see code: https://github.com/llSourcell/how_to_deploy_a_keras_model_to_production"
   ]
  },
  {
   "cell_type": "code",
   "execution_count": 2,
   "metadata": {},
   "outputs": [
    {
     "name": "stdout",
     "output_type": "stream",
     "text": [
      "WARNING:tensorflow:From C:\\Users\\dlorenz\\AppData\\Local\\Continuum\\anaconda3\\lib\\site-packages\\tensorflow\\python\\framework\\op_def_library.py:263: colocate_with (from tensorflow.python.framework.ops) is deprecated and will be removed in a future version.\n",
      "Instructions for updating:\n",
      "Colocations handled automatically by placer.\n",
      "WARNING:tensorflow:From C:\\Users\\dlorenz\\AppData\\Local\\Continuum\\anaconda3\\lib\\site-packages\\keras\\backend\\tensorflow_backend.py:3445: calling dropout (from tensorflow.python.ops.nn_ops) with keep_prob is deprecated and will be removed in a future version.\n",
      "Instructions for updating:\n",
      "Please use `rate` instead of `keep_prob`. Rate should be set to `rate = 1 - keep_prob`.\n",
      "Loaded Model from disk\n"
     ]
    }
   ],
   "source": [
    "# Load pre-trained model into memory\n",
    "json_file = open('model.json','r')\n",
    "loaded_model_json = json_file.read()\n",
    "json_file.close()\n",
    "loaded_model = model_from_json(loaded_model_json)\n",
    "#load weights into new model\n",
    "loaded_model.load_weights(\"model.h5\")\n",
    "print(\"Loaded Model from disk\")"
   ]
  },
  {
   "cell_type": "code",
   "execution_count": 3,
   "metadata": {},
   "outputs": [],
   "source": [
    "# Helper function for tokenizing text to feed through pre-trained deep learning network\n",
    "def prepDataForDeepLearning(text):\n",
    "    trainWordFeatures = tokenizer.texts_to_sequences(text)\n",
    "    textTokenized = pad_sequences(trainWordFeatures, 201, padding='post')\n",
    "    \n",
    "    return textTokenized"
   ]
  },
  {
   "cell_type": "code",
   "execution_count": 4,
   "metadata": {},
   "outputs": [],
   "source": [
    "# Load files needed to create proper matrix using tokens from training data\n",
    "inputDataTrain = pd.DataFrame(pd.read_csv(\"train_DrugExp_Text.tsv\", \"\\t\", header=None))\n",
    "trainText = [item[1] for item in inputDataTrain.values.tolist()]\n",
    "trainingLabels = [0 if item[0] == -1 else 1 for item in inputDataTrain.values.tolist()]\n",
    "\n",
    "VOCABULARY_SIZE=10000\n",
    "tokenizer = Tokenizer(num_words=VOCABULARY_SIZE)\n",
    "tokenizer.fit_on_texts(trainText)\n",
    "\n",
    "## convert words into word ids\n",
    "meanLength = np.mean([len(item.split(\" \")) for item in trainText])\n",
    "\n",
    "textTokenized = prepDataForDeepLearning(trainText)"
   ]
  },
  {
   "cell_type": "code",
   "execution_count": 5,
   "metadata": {},
   "outputs": [],
   "source": [
    "loaded_model.compile(loss='binary_crossentropy',optimizer='adam',metrics=['accuracy'])"
   ]
  },
  {
   "cell_type": "code",
   "execution_count": 6,
   "metadata": {},
   "outputs": [],
   "source": [
    "#Test that model works based on accuracy in-sample (comment out to run more quickly)\n",
    "#Note: this model performs at about 82% out-of-sample\n",
    "loss, accuracy = loaded_model.evaluate(textTokenized,trainingLabels)\n",
    "print('loss:', loss)\n",
    "print('accuracy:', accuracy)"
   ]
  },
  {
   "cell_type": "code",
   "execution_count": 7,
   "metadata": {},
   "outputs": [
    {
     "data": {
      "text/plain": [
       "0.9211631342768669"
      ]
     },
     "execution_count": 7,
     "metadata": {},
     "output_type": "execute_result"
    }
   ],
   "source": [
    "#Test with some text (note: lower to zero = more severe):\n",
    "textDataTest = ['I had a severe reaction to my medication and it was not fun. I developed a severe rash and was not able to sleep. Terrible! I hate the doctor that gave this to me and I am never taking this drug again.']\n",
    "textTokenizedTest = prepDataForDeepLearning(textDataTest)\n",
    "#Note: subtract to get things into severity probability:\n",
    "out = 1-np.asscalar(loaded_model.predict(textTokenizedTest))\n",
    "out"
   ]
  },
  {
   "cell_type": "code",
   "execution_count": 8,
   "metadata": {},
   "outputs": [
    {
     "data": {
      "text/plain": [
       "0.2020358443260193"
      ]
     },
     "execution_count": 8,
     "metadata": {},
     "output_type": "execute_result"
    }
   ],
   "source": [
    "#Test with some text (note: lower to zero = more severe):\n",
    "textDataTest = ['I love my medication!']\n",
    "textTokenizedTest = prepDataForDeepLearning(textDataTest)\n",
    "#Note: subtract to get things into severity probability:\n",
    "out = 1-np.asscalar(loaded_model.predict(textTokenizedTest))\n",
    "out"
   ]
  },
  {
   "cell_type": "markdown",
   "metadata": {},
   "source": [
    "See above. The first message had a 92% probability being severe and the second had a 20% chance. \n",
    "Appears to be working!"
   ]
  },
  {
   "cell_type": "code",
   "execution_count": 9,
   "metadata": {},
   "outputs": [],
   "source": [
    "# define a predict function as an endpoint \n",
    "@app.route('/', methods=['GET','POST'])\n",
    "def predict():\n",
    "    #whenever the predict method is called, we're going\n",
    "    #to input the user entered text into the model\n",
    "    #and return a prediction\n",
    "    if request.method=='POST':\n",
    "        textData = request.form.get('text_entered')\n",
    "        print(textData)\n",
    "        textDataArray = [textData]\n",
    "        print(textDataArray)\n",
    "        textTokenized = prepDataForDeepLearning(textDataArray)\n",
    "        print(textTokenized)\n",
    "        prediction = int((1-np.asscalar(loaded_model.predict(textTokenized)))*100)\n",
    "        print(prediction)\n",
    "        #return prediction in new page\n",
    "        return render_template('prediction.html', prediction=prediction)\n",
    "    else:\n",
    "        return render_template(\"Search_Page.html\")   "
   ]
  },
  {
   "cell_type": "markdown",
   "metadata": {},
   "source": [
    "Note: This code likely will return error message. Follow instructions below to correct error.\n",
    "\n",
    "You need to edit the echo function definition at ../Lib/site-packages/click/utils.py the default value for the file parameter must be sys.stdout instead of None.\n",
    "\n",
    "Do the same for the secho function definition at ../Lib/site-packages/click/termui.py"
   ]
  },
  {
   "cell_type": "code",
   "execution_count": 10,
   "metadata": {},
   "outputs": [
    {
     "name": "stderr",
     "output_type": "stream",
     "text": [
      " * Running on http://0.0.0.0:5000/ (Press CTRL+C to quit)\n",
      "127.0.0.1 - - [04/May/2019 15:06:09] \"\u001b[37mGET / HTTP/1.1\u001b[0m\" 200 -\n",
      "127.0.0.1 - - [04/May/2019 15:07:36] \"\u001b[37mPOST / HTTP/1.1\u001b[0m\" 200 -\n"
     ]
    },
    {
     "name": "stdout",
     "output_type": "stream",
     "text": [
      "I had a severe reaction to my medication and it was not fun. I developed a severe rash and was not able to sleep. Terrible! \n",
      "['I had a severe reaction to my medication and it was not fun. I developed a severe rash and was not able to sleep. Terrible! ']\n",
      "[[   1   20    7   83  378    4    5  101    2    6   10   18 1603    1\n",
      "   564    7   83  470    2   10   18  263    4  109  316    0    0    0\n",
      "     0    0    0    0    0    0    0    0    0    0    0    0    0    0\n",
      "     0    0    0    0    0    0    0    0    0    0    0    0    0    0\n",
      "     0    0    0    0    0    0    0    0    0    0    0    0    0    0\n",
      "     0    0    0    0    0    0    0    0    0    0    0    0    0    0\n",
      "     0    0    0    0    0    0    0    0    0    0    0    0    0    0\n",
      "     0    0    0    0    0    0    0    0    0    0    0    0    0    0\n",
      "     0    0    0    0    0    0    0    0    0    0    0    0    0    0\n",
      "     0    0    0    0    0    0    0    0    0    0    0    0    0    0\n",
      "     0    0    0    0    0    0    0    0    0    0    0    0    0    0\n",
      "     0    0    0    0    0    0    0    0    0    0    0    0    0    0\n",
      "     0    0    0    0    0    0    0    0    0    0    0    0    0    0\n",
      "     0    0    0    0    0    0    0    0    0    0    0    0    0    0\n",
      "     0    0    0    0    0]]\n",
      "63\n"
     ]
    }
   ],
   "source": [
    "if __name__ == \"__main__\":\n",
    "    # start the flask app, allow remote connections\n",
    "    #decide what port to run the app in\n",
    "    port = int(os.environ.get('PORT', 5000))\n",
    "    #this ensures that updates to html/css/js will come through\n",
    "    app.jinja_env.auto_reload = True  \n",
    "    #run the app locally on the givn port\n",
    "    app.run(host='0.0.0.0', port=port) "
   ]
  }
 ],
 "metadata": {
  "kernelspec": {
   "display_name": "Python 3",
   "language": "python",
   "name": "python3"
  },
  "language_info": {
   "codemirror_mode": {
    "name": "ipython",
    "version": 3
   },
   "file_extension": ".py",
   "mimetype": "text/x-python",
   "name": "python",
   "nbconvert_exporter": "python",
   "pygments_lexer": "ipython3",
   "version": "3.6.5"
  }
 },
 "nbformat": 4,
 "nbformat_minor": 2
}
